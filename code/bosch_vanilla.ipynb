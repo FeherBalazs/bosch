{
 "cells": [
  {
   "cell_type": "code",
   "execution_count": 3,
   "metadata": {
    "collapsed": false
   },
   "outputs": [],
   "source": [
    "import pandas as pd\n",
    "import numpy as np\n",
    "from IPython.display import display\n",
    "from sklearn import preprocessing\n",
    "\n",
    "DATA_DIR = \"../input\"\n",
    "\n",
    "ID_COLUMN = 'Id'\n",
    "TARGET_COLUMN = 'Response'\n",
    "\n",
    "NROWS = 100\n",
    "\n",
    "TRAIN_NUMERIC = \"{0}/train_numeric.csv\".format(DATA_DIR)\n",
    "TRAIN_CATEGORICAL = \"{0}/train_categorical.csv\".format(DATA_DIR)\n",
    "TRAIN_DATE = \"{0}/train_date.csv\".format(DATA_DIR)\n",
    "\n",
    "TEST_NUMERIC = \"{0}/test_numeric.csv\".format(DATA_DIR)\n",
    "TEST_CATEGORICAL = \"{0}/test_categorical.csv\".format(DATA_DIR)\n",
    "TEST_DATE = \"{0}/test_date.csv\".format(DATA_DIR)\n",
    "\n",
    "test = pd.read_csv(TEST_NUMERIC, usecols=[ID_COLUMN], nrows=NROWS)"
   ]
  },
  {
   "cell_type": "code",
   "execution_count": 4,
   "metadata": {
    "collapsed": false
   },
   "outputs": [],
   "source": [
    "# Preprocessing categorical data\n",
    "\n",
    "# Load data\n",
    "train_df1 = pd.read_csv(TRAIN_CATEGORICAL, nrows=NROWS)\n",
    "test_df1 = pd.read_csv(TEST_CATEGORICAL, nrows=NROWS)\n",
    "\n",
    "# Merge into single DataFrame such that we get consistent dummies at train and test\n",
    "merged = pd.concat([train_df1, test_df1])\n",
    "\n",
    "# Preprocess\n",
    "merged.fillna(0, inplace=True)\n",
    "merged = pd.get_dummies(merged)\n",
    "\n",
    "# Load back\n",
    "train_df1 = merged[:train_df1.shape[0]]\n",
    "test_df1 = merged[train_df1.shape[0]:]"
   ]
  },
  {
   "cell_type": "code",
   "execution_count": 6,
   "metadata": {
    "collapsed": false
   },
   "outputs": [],
   "source": [
    "# Preprocessing remaining train data\n",
    "\n",
    "min_max_scaler = preprocessing.MinMaxScaler()\n",
    "\n",
    "train_df2 = pd.read_csv(TRAIN_DATE, nrows=NROWS)\n",
    "train_df2.fillna(0, inplace=True)\n",
    "train_df2.ix[:,1:] = min_max_scaler.fit_transform(train_df2.ix[:,1:])\n",
    "\n",
    "train_df3 = pd.read_csv(TRAIN_NUMERIC, nrows=NROWS)\n",
    "train_df3.fillna(0, inplace=True)\n",
    "train_df3.ix[:,1:] = min_max_scaler.fit_transform(train_df3.ix[:,1:])\n",
    "\n",
    "# Merge DataFrames\n",
    "train_df = pd.merge(pd.merge(train_df1, train_df2, on='Id'), train_df3, on='Id')\n",
    "# Drop Id as we don't need it anymore\n",
    "train_df = train_df.drop(\"Id\", 1)\n",
    "# Fill NAs\n",
    "train_df.fillna(0, inplace=True)"
   ]
  },
  {
   "cell_type": "code",
   "execution_count": 7,
   "metadata": {
    "collapsed": false
   },
   "outputs": [],
   "source": [
    "# Preprocessing test data\n",
    "\n",
    "test_df2 = pd.read_csv(TEST_DATE, nrows=NROWS)\n",
    "test_df2.fillna(0, inplace=True)\n",
    "test_df2.ix[:,1:] = min_max_scaler.fit_transform(test_df2.ix[:,1:])\n",
    "\n",
    "test_df3 = pd.read_csv(TEST_NUMERIC, nrows=NROWS)\n",
    "test_df3.fillna(0, inplace=True)\n",
    "test_df3.ix[:,1:] = min_max_scaler.fit_transform(test_df3.ix[:,1:])\n",
    "\n",
    "# Merge DataFrames\n",
    "test_df = pd.merge(pd.merge(test_df1, test_df2, on='Id'), test_df3, on='Id')\n",
    "id_test = test['Id'].values\n",
    "# Drop Id as we don't need it anymore\n",
    "test_df = test_df.drop(\"Id\", 1)\n",
    "# Fill NAs\n",
    "test_df.fillna(0, inplace=True)"
   ]
  },
  {
   "cell_type": "code",
   "execution_count": 8,
   "metadata": {
    "collapsed": false
   },
   "outputs": [
    {
     "name": "stdout",
     "output_type": "stream",
     "text": [
      "Feature and target columns separated.\n"
     ]
    }
   ],
   "source": [
    "# Extract feature (X) and target (y) columns\n",
    "feature_cols = list(train_df.columns[:-1])  # all columns but last are features\n",
    "target_col = train_df.columns[-1]  # last column is the target/label\n",
    "X_all = train_df[feature_cols]  # feature values for all products\n",
    "y_all = train_df[target_col]  # corresponding targets\n",
    "print('Feature and target columns separated.')"
   ]
  },
  {
   "cell_type": "code",
   "execution_count": 9,
   "metadata": {
    "collapsed": false
   },
   "outputs": [
    {
     "name": "stdout",
     "output_type": "stream",
     "text": [
      "Training set: 85 samples\n",
      "Validation set: 15 samples\n"
     ]
    }
   ],
   "source": [
    "# Select features (X) and corresponding labels (y) for the training and validation sets\n",
    "# Note: Shuffle the data or randomly select samples to avoid any bias due to ordering in the dataset\n",
    "from sklearn.cross_validation import train_test_split\n",
    "\n",
    "X_train, X_test, y_train, y_test = train_test_split(X_all, y_all, train_size = 0.85, random_state=42)\n",
    "\n",
    "# Convert data to Numpy matrices for Keras\n",
    "X_train = np.asmatrix(X_train)\n",
    "X_test = np.asmatrix(X_test)\n",
    "test_df = np.asmatrix(test_df)\n",
    "\n",
    "print \"Training set: {} samples\".format(X_train.shape[0])\n",
    "print \"Validation set: {} samples\".format(X_test.shape[0])\n",
    "# Note: If you need a validation set, extract it from within training data"
   ]
  },
  {
   "cell_type": "code",
   "execution_count": 10,
   "metadata": {
    "collapsed": false
   },
   "outputs": [
    {
     "name": "stderr",
     "output_type": "stream",
     "text": [
      "Using Theano backend.\n"
     ]
    }
   ],
   "source": [
    "from keras.models import Sequential\n",
    "from keras.layers import Dense, Dropout, Activation\n",
    "from keras.layers.advanced_activations import PReLU\n",
    "#from keras.layers.normalization import BatchNormalization\n",
    "\n",
    "def build_model():\n",
    "    model = Sequential()\n",
    "    model.add(Dense(32, input_dim=X_train.shape[1], init = 'he_normal'))\n",
    "    #model.add(BatchNormalization())\n",
    "    model.add(PReLU())\n",
    "    model.add(Dropout(0.4))\n",
    "    model.add(Dense(32, init = 'he_normal'))\n",
    "    #model.add(BatchNormalization())\n",
    "    model.add(PReLU())\n",
    "    model.add(Dropout(0.2))\n",
    "    model.add(Dense(1, init = 'he_normal'))\n",
    "    model.compile(loss = 'binary_crossentropy', optimizer = 'Adam')\n",
    "    return(model)"
   ]
  },
  {
   "cell_type": "code",
   "execution_count": 19,
   "metadata": {
    "collapsed": false
   },
   "outputs": [
    {
     "name": "stdout",
     "output_type": "stream",
     "text": [
      "Train on 85 samples, validate on 15 samples\n",
      "Epoch 1/1\n",
      "0s - loss: 0.0025 - val_loss: 1.1921e-07\n",
      " 16/100 [===>..........................] - ETA: 0sExporting final result...\n",
      "Results ready for submission.\n"
     ]
    }
   ],
   "source": [
    "nb_epoch = 1\n",
    "batch_size = 16\n",
    "\n",
    "model = build_model()\n",
    "fit = model.fit(X_train, y_train, batch_size=batch_size, nb_epoch = nb_epoch, verbose = 2 ,validation_data=[X_test, y_test])\n",
    "pred = model.predict_classes(test_df, batch_size=batch_size)\n",
    "    \n",
    "print('Exporting final result...')\n",
    "df = pd.DataFrame({'Id': id_test})\n",
    "df['Response'] = pred\n",
    "df.to_csv('../output/submission_keras.csv', index = False)\n",
    "\n",
    "print('Results ready for submission.')"
   ]
  },
  {
   "cell_type": "code",
   "execution_count": null,
   "metadata": {
    "collapsed": true
   },
   "outputs": [],
   "source": []
  },
  {
   "cell_type": "code",
   "execution_count": null,
   "metadata": {
    "collapsed": true
   },
   "outputs": [],
   "source": []
  }
 ],
 "metadata": {
  "kernelspec": {
   "display_name": "Python 2",
   "language": "python",
   "name": "python2"
  },
  "language_info": {
   "codemirror_mode": {
    "name": "ipython",
    "version": 2
   },
   "file_extension": ".py",
   "mimetype": "text/x-python",
   "name": "python",
   "nbconvert_exporter": "python",
   "pygments_lexer": "ipython2",
   "version": "2.7.11"
  }
 },
 "nbformat": 4,
 "nbformat_minor": 0
}
