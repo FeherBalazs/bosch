{
 "cells": [
  {
   "cell_type": "code",
   "execution_count": 2,
   "metadata": {
    "collapsed": false
   },
   "outputs": [
    {
     "name": "stderr",
     "output_type": "stream",
     "text": [
      "Using Theano backend.\n"
     ]
    }
   ],
   "source": [
    "import pandas as pd\n",
    "import numpy as np\n",
    "from IPython.display import display\n",
    "from sklearn import preprocessing\n",
    "from sklearn.cross_validation import train_test_split\n",
    "from keras.models import Sequential\n",
    "from keras.layers import Dense, Dropout, Activation\n",
    "from keras.layers.advanced_activations import PReLU\n",
    "\n",
    "DATA_DIR = \"../input\"\n",
    "\n",
    "ID_COLUMN = 'Id'\n",
    "TARGET_COLUMN = 'Response'"
   ]
  },
  {
   "cell_type": "code",
   "execution_count": 3,
   "metadata": {
    "collapsed": false
   },
   "outputs": [
    {
     "name": "stdout",
     "output_type": "stream",
     "text": [
      "Loading test data...\n",
      "Test data loaded.\n",
      "Loading train_categorical data...\n"
     ]
    }
   ],
   "source": [
    "NROWS = 10000\n",
    "\n",
    "TRAIN_NUMERIC = \"{0}/train_numeric.csv\".format(DATA_DIR)\n",
    "TRAIN_CATEGORICAL = \"{0}/train_categorical.csv\".format(DATA_DIR)\n",
    "TRAIN_DATE = \"{0}/train_date.csv\".format(DATA_DIR)\n",
    "\n",
    "TEST_NUMERIC = \"{0}/test_numeric.csv\".format(DATA_DIR)\n",
    "TEST_CATEGORICAL = \"{0}/test_categorical.csv\".format(DATA_DIR)\n",
    "TEST_DATE = \"{0}/test_date.csv\".format(DATA_DIR)\n",
    "\n",
    "print('Loading test data...')\n",
    "test = pd.read_csv(TEST_NUMERIC, usecols=[ID_COLUMN], nrows=NROWS)\n",
    "print('Test data loaded.')\n",
    "\n",
    "# Preprocessing categorical data\n",
    "\n",
    "# Load data\n",
    "print('Loading train_categorical data...')\n",
    "train_df1 = pd.read_csv(TRAIN_CATEGORICAL, nrows=NROWS, low_memory=False)"
   ]
  },
  {
   "cell_type": "code",
   "execution_count": 4,
   "metadata": {
    "collapsed": true
   },
   "outputs": [],
   "source": [
    "# Loading column types\n",
    "dtypes_train_df1 = train_df1.dtypes"
   ]
  },
  {
   "cell_type": "code",
   "execution_count": 5,
   "metadata": {
    "collapsed": false
   },
   "outputs": [
    {
     "data": {
      "text/plain": [
       "Id                int64\n",
       "L0_S1_F25        object\n",
       "L0_S1_F27        object\n",
       "L0_S1_F29        object\n",
       "L0_S1_F31        object\n",
       "L0_S2_F33        object\n",
       "L0_S2_F35        object\n",
       "L0_S2_F37        object\n",
       "L0_S2_F39        object\n",
       "L0_S2_F41        object\n",
       "L0_S2_F43        object\n",
       "L0_S2_F45        object\n",
       "L0_S2_F47        object\n",
       "L0_S2_F49        object\n",
       "L0_S2_F51        object\n",
       "L0_S2_F53        object\n",
       "L0_S2_F55        object\n",
       "L0_S2_F57        object\n",
       "L0_S2_F59        object\n",
       "L0_S2_F61        object\n",
       "L0_S2_F63        object\n",
       "L0_S2_F65        object\n",
       "L0_S2_F67        object\n",
       "L0_S3_F69       float64\n",
       "L0_S3_F71       float64\n",
       "L0_S3_F73       float64\n",
       "L0_S3_F75       float64\n",
       "L0_S3_F77       float64\n",
       "L0_S3_F79       float64\n",
       "L0_S3_F81       float64\n",
       "                 ...   \n",
       "L3_S47_F4179    float64\n",
       "L3_S47_F4181     object\n",
       "L3_S47_F4182    float64\n",
       "L3_S47_F4184    float64\n",
       "L3_S47_F4186     object\n",
       "L3_S47_F4187    float64\n",
       "L3_S47_F4189    float64\n",
       "L3_S47_F4191     object\n",
       "L3_S47_F4192    float64\n",
       "L3_S49_F4207    float64\n",
       "L3_S49_F4209    float64\n",
       "L3_S49_F4210    float64\n",
       "L3_S49_F4212    float64\n",
       "L3_S49_F4214    float64\n",
       "L3_S49_F4215    float64\n",
       "L3_S49_F4217    float64\n",
       "L3_S49_F4219    float64\n",
       "L3_S49_F4220    float64\n",
       "L3_S49_F4222    float64\n",
       "L3_S49_F4224    float64\n",
       "L3_S49_F4225    float64\n",
       "L3_S49_F4227    float64\n",
       "L3_S49_F4229    float64\n",
       "L3_S49_F4230    float64\n",
       "L3_S49_F4232    float64\n",
       "L3_S49_F4234    float64\n",
       "L3_S49_F4235    float64\n",
       "L3_S49_F4237    float64\n",
       "L3_S49_F4239    float64\n",
       "L3_S49_F4240    float64\n",
       "dtype: object"
      ]
     },
     "execution_count": 5,
     "metadata": {},
     "output_type": "execute_result"
    }
   ],
   "source": [
    "dtypes_train_df1"
   ]
  },
  {
   "cell_type": "code",
   "execution_count": null,
   "metadata": {
    "collapsed": true
   },
   "outputs": [],
   "source": [
    "print('Loading train_categorical data...')\n",
    "train_df1 = pd.read_csv(TRAIN_CATEGORICAL, dtype=dtypes_train_df1)\n",
    "print('Train_categorical data loaded.')"
   ]
  },
  {
   "cell_type": "code",
   "execution_count": null,
   "metadata": {
    "collapsed": true
   },
   "outputs": [],
   "source": [
    "print('Loading test_categorical data...')\n",
    "test_df1 = pd.read_csv(TEST_CATEGORICAL, nrows=NROWS, low_memory=False)\n",
    "dtypes_test_df1 = test_df1.dtypes\n",
    "test_df1 = pd.read_csv(TRAIN_CATEGORICAL, dtype=dtypes_test_df1)\n",
    "print('Test_categorical data loaded.')\n",
    "\n",
    "# Merge into single DataFrame such that we get consistent dummies at train and test\n",
    "print('Merging categorical data...')\n",
    "merged = pd.concat([train_df1, test_df1])\n",
    "print('Categorical data merged.')\n",
    "\n",
    "# Preprocess\n",
    "print('Preprocessing data merged...')\n",
    "merged.fillna(0, inplace=True)\n",
    "merged = pd.get_dummies(merged)\n",
    "print('Preprocessing finished.')\n",
    "\n",
    "# Load back\n",
    "print('Loading back train data...')\n",
    "train_df1 = merged[:train_df1.shape[0]]\n",
    "print('Train data loaded back.')\n",
    "\n",
    "print('Loading back test data...')\n",
    "test_df1 = merged[train_df1.shape[0]:]\n",
    "print('Test data loaded back.')\n",
    "\n",
    "# Preprocessing remaining train data\n",
    "\n",
    "min_max_scaler = preprocessing.MinMaxScaler()\n",
    "\n",
    "print('Loading train_date data...')\n",
    "train_df2 = pd.read_csv(TRAIN_DATE, nrows=NROWS, low_memory=False)\n",
    "dtypes_train_df2 = train_df2.dtypes\n",
    "train_df2 = pd.read_csv(TRAIN_DATE, dtype=dtypes_train_df2)\n",
    "print('Train_date data loaded.')\n",
    "\n",
    "print('Preprocessing train_date data...')\n",
    "train_df2.fillna(0, inplace=True)\n",
    "train_df2.ix[:,1:] = min_max_scaler.fit_transform(train_df2.ix[:,1:])\n",
    "print('Preprocessing finished.')\n",
    "\n",
    "print('Loading train_numeric data...')\n",
    "train_df3 = pd.read_csv(TRAIN_NUMERIC, nrows=NROWS, low_memory=False)\n",
    "dtypes_train_df3 = train_df3.dtypes\n",
    "train_df3 = pd.read_csv(TRAIN_NUMERIC, dtype=dtypes_train_df3)\n",
    "print('Train_numeric data loaded.')\n",
    "\n",
    "print('Preprocessing train_numeric data...')\n",
    "train_df3.fillna(0, inplace=True)\n",
    "train_df3.ix[:,1:] = min_max_scaler.fit_transform(train_df3.ix[:,1:])\n",
    "print('Preprocessing finished.')\n",
    "\n",
    "# Merge DataFrames\n",
    "print('Merging DataFrames...')\n",
    "train_df = pd.merge(pd.merge(train_df1, train_df2, on='Id'), train_df3, on='Id')\n",
    "print('DataFrames merged.')\n",
    "\n",
    "print('Preprocessing merged DataFrame...')\n",
    "# Drop Id as we don't need it anymore\n",
    "train_df = train_df.drop(\"Id\", 1)\n",
    "# Fill NAs\n",
    "train_df.fillna(0, inplace=True)\n",
    "print('Preprocessing finished.')\n",
    "\n",
    "# Preprocessing test data\n",
    "\n",
    "print('Loading test_date data...')\n",
    "test_df2 = pd.read_csv(TEST_DATE, nrows=NROWS, low_memory=False)\n",
    "dtypes_test_df2 = test_df2.dtypes\n",
    "test_df2 = pd.read_csv(TEST_DATE, dtype=dtypes_test_df2)\n",
    "print('Test_date data loaded.')\n",
    "\n",
    "print('Preprocessing test_date data...')\n",
    "test_df2.fillna(0, inplace=True)\n",
    "test_df2.ix[:,1:] = min_max_scaler.fit_transform(test_df2.ix[:,1:])\n",
    "print('Preprocessing finished.')\n",
    "\n",
    "print('Loading test_numeric data...')\n",
    "test_df3 = pd.read_csv(TEST_NUMERIC, nrows=NROWS, low_memory=False)\n",
    "dtypes_test_df3 = test_df3.dtypes\n",
    "test_df3 = pd.read_csv(TEST_NUMERIC, dtype=dtypes_test_df3)\n",
    "print('Test_numeric data loaded.')\n",
    "\n",
    "print('Preprocessing test_date data...')\n",
    "test_df3.fillna(0, inplace=True)\n",
    "test_df3.ix[:,1:] = min_max_scaler.fit_transform(test_df3.ix[:,1:])\n",
    "print('Preprocessing finished.')\n",
    "\n",
    "# Merge DataFrames\n",
    "print('Merging DataFrames...')\n",
    "test_df = pd.merge(pd.merge(test_df1, test_df2, on='Id'), test_df3, on='Id')\n",
    "print('DataFrames merged.')\n",
    "\n",
    "# Getting Id column for creating the submission file at the end\n",
    "id_test = test['Id'].values\n",
    "\n",
    "print('Preprocessing merged DataFrame...')\n",
    "# Drop Id as we don't need it anymore\n",
    "test_df = test_df.drop(\"Id\", 1)\n",
    "# Fill NAs\n",
    "test_df.fillna(0, inplace=True)\n",
    "print('Preprocessing finished.')"
   ]
  },
  {
   "cell_type": "code",
   "execution_count": null,
   "metadata": {
    "collapsed": true
   },
   "outputs": [],
   "source": [
    "# Extract feature (X) and target (y) columns\n",
    "feature_cols = list(train_df.columns[:-1])  # all columns but last are features\n",
    "target_col = train_df.columns[-1]  # last column is the target/label\n",
    "X_all = train_df[feature_cols]  # feature values for all products\n",
    "y_all = train_df[target_col]  # corresponding targets\n",
    "print('Feature and target columns separated.')\n",
    "\n",
    "# Select features (X) and corresponding labels (y) for the training and validation sets\n",
    "# Note: Shuffle the data or randomly select samples to avoid any bias due to ordering in the dataset\n",
    "\n",
    "X_train, X_test, y_train, y_test = train_test_split(X_all, y_all, train_size = 0.85, random_state=42)\n",
    "\n",
    "# Convert data to Numpy matrices for Keras\n",
    "X_train = np.asmatrix(X_train)\n",
    "X_test = np.asmatrix(X_test)\n",
    "test_df = np.asmatrix(test_df)\n",
    "\n",
    "print \"Training set: {} samples\".format(X_train.shape[0])\n",
    "print \"Validation set: {} samples\".format(X_test.shape[0])\n",
    "# Note: If you need a validation set, extract it from within training data"
   ]
  },
  {
   "cell_type": "code",
   "execution_count": null,
   "metadata": {
    "collapsed": true
   },
   "outputs": [],
   "source": [
    "def build_model():\n",
    "    model = Sequential()\n",
    "    model.add(Dense(256, input_dim=X_train.shape[1], init = 'he_normal'))\n",
    "    model.add(PReLU())\n",
    "    model.add(Dropout(0.4))\n",
    "    model.add(Dense(128, init = 'he_normal'))\n",
    "    model.add(PReLU())\n",
    "    model.add(Dropout(0.2))\n",
    "    model.add(Dense(1, init = 'he_normal'))\n",
    "    model.compile(loss = 'binary_crossentropy', optimizer = 'Adam')\n",
    "    return(model)\n",
    "\n",
    "nb_epoch = 1\n",
    "batch_size = 256\n",
    "\n",
    "model = build_model()\n",
    "fit = model.fit(X_train, y_train, batch_size=batch_size, nb_epoch = nb_epoch, verbose = 2 ,validation_data=[X_test, y_test])\n",
    "pred = model.predict_classes(test_df, batch_size=batch_size)\n",
    "    \n",
    "print('Exporting final result...')\n",
    "df = pd.DataFrame({'Id': id_test})\n",
    "df['Response'] = pred\n",
    "df.to_csv('../output/submission_keras.csv', index = False)\n",
    "\n",
    "print('Results ready for submission.')"
   ]
  }
 ],
 "metadata": {
  "kernelspec": {
   "display_name": "Python 2",
   "language": "python",
   "name": "python2"
  },
  "language_info": {
   "codemirror_mode": {
    "name": "ipython",
    "version": 2
   },
   "file_extension": ".py",
   "mimetype": "text/x-python",
   "name": "python",
   "nbconvert_exporter": "python",
   "pygments_lexer": "ipython2",
   "version": "2.7.11"
  }
 },
 "nbformat": 4,
 "nbformat_minor": 0
}
